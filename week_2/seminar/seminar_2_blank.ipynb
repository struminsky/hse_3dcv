{
 "cells": [
  {
   "cell_type": "markdown",
   "id": "7a7bb0be",
   "metadata": {},
   "source": [
    "# Plan\n",
    "\n",
    "- Implement the eight-point algorithm\n",
    "- Compute the fundamental matrix $\\mathrm F$ for a pair of real images using all correspondences\n",
    "    - Optional: try to implement a [robust](https://ru.wikipedia.org/wiki/RANSAC) $\\mathrm F$ estimator\n",
    "- Visualize epipolar lines using the fundamental matrix"
   ]
  },
  {
   "cell_type": "code",
   "execution_count": null,
   "id": "7080e0ec",
   "metadata": {},
   "outputs": [],
   "source": [
    "import numpy as np\n",
    "import torch\n",
    "import matplotlib.pylab as plt\n",
    "\n",
    "\n",
    "def dehomogenize_points(points):\n",
    "    return points[..., :-1] / (points[..., -1:] + 1e-8 * torch.sign(points[..., -1:]))\n",
    "\n",
    "def homogenize_points(points):\n",
    "    last_coordinate = torch.ones_like(points[..., -1:])\n",
    "    return torch.cat((points, last_coordinate), dim=-1)"
   ]
  },
  {
   "cell_type": "markdown",
   "id": "5eb2bf07",
   "metadata": {},
   "source": [
    "# Eight-point Algorithm"
   ]
  },
  {
   "cell_type": "code",
   "execution_count": null,
   "id": "33a90f5a",
   "metadata": {},
   "outputs": [],
   "source": [
    "# synthetic data\n",
    "points_3d = torch.randn(8, 4)\n",
    "H_l = torch.randn(3, 4)\n",
    "H_r = torch.randn(3, 4)\n",
    "\n",
    "points_l = points_3d @ H_l.T\n",
    "points_r = points_3d @ H_r.T"
   ]
  },
  {
   "cell_type": "code",
   "execution_count": null,
   "id": "6ed38fe1",
   "metadata": {
    "scrolled": true
   },
   "outputs": [],
   "source": [
    "# visualize the synthetic data\n",
    "fig, ax = plt.subplots(1, 2)\n",
    "\n",
    "ax[0].set_title('left')\n",
    "ax[0].scatter(*torch.chunk(dehomogenize_points(points_l), 2, dim=-1))\n",
    "ax[1].set_title('right')\n",
    "ax[1].scatter(*torch.chunk(dehomogenize_points(points_r), 2, dim=-1))"
   ]
  },
  {
   "cell_type": "code",
   "execution_count": null,
   "id": "90011795",
   "metadata": {},
   "outputs": [],
   "source": [
    "def get_fundamental_matrix(points_l, points_r):\n",
    "    raise NotImplementedError\n",
    "    \n",
    "def compute_residuals(F, points_l, points_r):\n",
    "    raise NotImplementedError\n",
    "\n",
    "def compute_errors(F, points_l, points_r):\n",
    "    # optional\n",
    "    raise NotImplementedError"
   ]
  },
  {
   "cell_type": "code",
   "execution_count": null,
   "id": "a108e813",
   "metadata": {},
   "outputs": [],
   "source": [
    "F = get_fundamental_matrix(points_l, points_r)\n",
    "residuals = compute_residuals(F, points_l, points_r)\n",
    "\n",
    "print(residuals.abs().max())"
   ]
  },
  {
   "cell_type": "markdown",
   "id": "13ffc9e3",
   "metadata": {},
   "source": [
    "# Real Example"
   ]
  },
  {
   "cell_type": "code",
   "execution_count": null,
   "id": "5bf8934e",
   "metadata": {},
   "outputs": [],
   "source": [
    "left = plt.imread('left.jpg')\n",
    "right = plt.imread('right.jpg')\n",
    "h, w, _ = left.shape  # same shape for left and right\n",
    "# see https://docs.opencv.org/4.x/dc/dc3/tutorial_py_matcher.html for details\n",
    "correspondences = torch.load('correspondences.pt')\n",
    "# points are in homogeneous coordinates, however z = 1 for all points\n",
    "points_l = correspondences['points_l']\n",
    "points_r = correspondences['points_r']"
   ]
  },
  {
   "cell_type": "code",
   "execution_count": null,
   "id": "88fc2d15",
   "metadata": {},
   "outputs": [],
   "source": [
    "def plot_correspondences(ax, points_l, points_r, w):\n",
    "    for point_l, point_r in zip(points_l, points_r):\n",
    "        ax.plot([point_l[0], point_r[0] + w],\n",
    "                [point_l[1], point_r[1]],\n",
    "               marker='o')"
   ]
  },
  {
   "cell_type": "code",
   "execution_count": null,
   "id": "7214a33e",
   "metadata": {},
   "outputs": [],
   "source": [
    "fig, ax = plt.subplots(figsize=(17, 10))\n",
    "concatenated_image = np.concatenate((left, right), axis=1)\n",
    "ax.imshow(concatenated_image)\n",
    "plot_correspondences(ax, points_l, points_r, w)\n",
    "ax.axis('off');"
   ]
  },
  {
   "cell_type": "code",
   "execution_count": null,
   "id": "de47e418",
   "metadata": {},
   "outputs": [],
   "source": [
    "F = get_fundamental_matrix(points_l,\n",
    "                           points_r)\n",
    "resiudals = compute_residuals(F, points_l, points_r)\n",
    "plt.hist(residuals.abs());"
   ]
  },
  {
   "cell_type": "code",
   "execution_count": null,
   "id": "42b01f85",
   "metadata": {},
   "outputs": [],
   "source": [
    "def plot_epipolar_lines(ax, F, point_l, point_r, w):\n",
    "    # plot two epipolar lines for a single correspondence\n",
    "    raise NotImplementedError"
   ]
  },
  {
   "cell_type": "code",
   "execution_count": null,
   "id": "a9d8bef5",
   "metadata": {},
   "outputs": [],
   "source": [
    "fig, ax = plt.subplots(figsize=(17, 10))\n",
    "ax.imshow(concatenated_image)\n",
    "for point_l, point_r in zip(points_l, points_r):\n",
    "    plot_epipolar_lines(ax, F, point_l, point_r, w)\n",
    "ax.axis('off');\n",
    "#plt.savefig('images_with_epipolar_lines.jpg', bbox_inches='tight', dpi=200)"
   ]
  }
 ],
 "metadata": {
  "kernelspec": {
   "display_name": "Python 3 (ipykernel)",
   "language": "python",
   "name": "python3"
  },
  "language_info": {
   "codemirror_mode": {
    "name": "ipython",
    "version": 3
   },
   "file_extension": ".py",
   "mimetype": "text/x-python",
   "name": "python",
   "nbconvert_exporter": "python",
   "pygments_lexer": "ipython3",
   "version": "3.9.17"
  }
 },
 "nbformat": 4,
 "nbformat_minor": 5
}
